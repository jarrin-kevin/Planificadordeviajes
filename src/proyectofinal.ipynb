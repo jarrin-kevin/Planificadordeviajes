{
 "cells": [
  {
   "cell_type": "markdown",
   "id": "0595c3d0",
   "metadata": {},
   "source": [
    "<h1><font color=\"#113D68\" size=6>Python intermedio</font></h1>\n",
    "\n",
    "<h1><font color=\"#113D68\" size=5>Proyecto final</font></h1>\n",
    "\n",
    "<h1><font color=\"#113D68\" size=4>Planificador de desplazamientos</font></h1>\n"
   ]
  },
  {
   "attachments": {},
   "cell_type": "markdown",
   "id": "6c71c240",
   "metadata": {},
   "source": [
    "<a id=\"section1\"></a>\n",
    "# <font color=\"#004D7F\" size=4>Carga del dataset del mapa</font>"
   ]
  },
  {
   "cell_type": "code",
   "execution_count": 31,
   "id": "fab669b8",
   "metadata": {},
   "outputs": [
    {
     "name": "stdout",
     "output_type": "stream",
     "text": [
      "http://www.mapquestapi.com/directions/v2/route?key=xrX87rGpHC3Rw2GzcM9rbNuYmcWPRdOB&from=-3.99537%2C-79.211&to=Regina%2C+Praga%2C+Loja%2C+110107%2C+Ecuador\n"
     ]
    }
   ],
   "source": [
    "\n",
    "import json\n",
    "import urllib.request\n",
    "import requests\n",
    "import urllib\n",
    "from geopy.geocoders import Nominatim\n",
    "import pandas as pd\n",
    "#geoloc=Nominatim(user_agent=\"GeotLoc\")\n",
    "#locname=str(geoloc.reverse(\"-3.986595434424537, -79.19934528718197\"))\n",
    "\n",
    "#de la ubicacion las coordenadas\n",
    "ubicacion='Eplicachima,Loja, 110150, Ecuador'\n",
    "api_url_geocoding='http://www.mapquestapi.com/geocoding/v1/address?'\n",
    "key='xrX87rGpHC3Rw2GzcM9rbNuYmcWPRdOB'\n",
    "url_geocoding=api_url_geocoding+urllib.parse.urlencode({'key':key, 'location':'Ecuador, Loja, Eplicachima, Calicuchima'})\n",
    "data_geocoding= urllib.request.urlopen(url_geocoding).read().decode()\n",
    "ubicacion_json_geocoding=json.loads(data_geocoding) #guardo json\n",
    "ubicacion_list=ubicacion_json_geocoding['results'][0]['locations'][0]['latLng']# saco coordenadas\n",
    "ubicacion_coordenadas1=ubicacion_list.values()#saco coordenada\n",
    "ubicacion_coordenadas=list(ubicacion_coordenadas1) #saco coordenada en list\n",
    "ub_lng=str(ubicacion_coordenadas[0])#saco  str\n",
    "ub_lat=str(ubicacion_coordenadas[1])#saco lat str\n",
    "ubi=ub_lng,ub_lat #tupla\n",
    "ubi=','.join(ubi)# formato correcto para llamar a la api\n",
    "\n",
    "#saco ruta\n",
    "destino='Regina, Praga, Loja, 110107, Ecuador'\n",
    "api_url='http://www.mapquestapi.com/directions/v2/route?'\n",
    "key='xrX87rGpHC3Rw2GzcM9rbNuYmcWPRdOB'\n",
    "url=api_url+urllib.parse.urlencode({'key':key, 'from':ubi, 'to':destino})\n",
    "data = urllib.request.urlopen(url).read().decode()\n",
    "obj_json=json.loads(data)\n",
    "print(url) #url del api del json"
   ]
  },
  {
   "attachments": {},
   "cell_type": "markdown",
   "id": "7f82c71e",
   "metadata": {},
   "source": [
    "<a id=\"section2\"></a>\n",
    "# <font color=\"#004D7F\" size=4> Trazo el mapa en archivo html</font>"
   ]
  },
  {
   "cell_type": "code",
   "execution_count": 53,
   "id": "f1fdc654",
   "metadata": {},
   "outputs": [],
   "source": [
    "#trazo aqui ya la info del api con el mapa de folium\n",
    "\n",
    "import folium as fl\n",
    "\n",
    "ruta=obj_json[\"route\"][\"legs\"][0]['maneuvers'][0:]#extraigo info del json\n",
    "df_ruta=pd.DataFrame(ruta) #dataframe con toda la info\n",
    "startPoint_list=df_ruta['startPoint'].to_list()# coordenadas de la ruta en lista\n",
    "startPoint_df=pd.DataFrame(startPoint_list) # coordenadas de la ruta en dataframe\n",
    "df_ruta=pd.concat([df_ruta,startPoint_df],axis=1)\n",
    "\n",
    "place_lat = startPoint_df['lat'].astype(float).tolist()\n",
    "place_lng = startPoint_df['lng'].astype(float).tolist()\n",
    "\n",
    "points=[] #puntos\n",
    "\n",
    "for i in range(len(place_lat)):\n",
    "    points.append([place_lat[i], place_lng[i]])\n",
    "\n",
    "#mapa de folium\n",
    "ubicacion_mapa = fl.Map(location=ubicacion_coordenadas, zoom_start=16)\n",
    "\n",
    "#cargo los puntos el mapa destino y ubicacion\n",
    "for i in range(0,len(df_ruta)):\n",
    "    fl.Marker([df_ruta['lat'].iloc[i], df_ruta['lng'].iloc[i]],\n",
    "                  popup=('calle {} \\n '.format(df_ruta['streets'].iloc[i]))\n",
    "                  ,icon = fl.Icon(color='blue',icon_color='white',prefix='fa', icon='taxi')\n",
    "                  ).add_to(ubicacion_mapa)\n",
    "\n",
    "#cargo la linea de ruta\n",
    "fl.PolyLine(points, color='blue',dash_array='5',opacity ='.85',\n",
    "                tooltip ='Transit Route 101'\n",
    "                ).add_to(ubicacion_mapa)\n",
    "\n",
    "m=ubicacion_mapa\n",
    "ubicacion_mapa.save('ubicacion_mapa.html')\n",
    "\n",
    "import io\n",
    "from PIL import Image\n",
    "\n",
    "img_data=m._to_png(1)\n",
    "img=Image.open(io.BytesIO(img_data))\n",
    "img.save('image.png')\n",
    "\n",
    "# from pdfkit.api import configuration\n",
    "# from html2image import Html2Image\n",
    "# hti=Html2Image()\n",
    "# hti.screenshot{\n",
    "#    html_file='ubicacion_mapa.html',\n",
    "#    save_as='blue_page.png'\n",
    "# }\n"
   ]
  },
  {
   "attachments": {},
   "cell_type": "markdown",
   "id": "daebbc96",
   "metadata": {},
   "source": [
    "<a id=\"section3\"></a>\n",
    "# <font color=\"#004D7F\" size=4> Carga del dataset de openweather</font>"
   ]
  },
  {
   "cell_type": "code",
   "execution_count": 71,
   "id": "8467d79c",
   "metadata": {},
   "outputs": [
    {
     "name": "stdout",
     "output_type": "stream",
     "text": [
      "http://api.openweathermap.org/data/2.5/forecast?appid=b14a413b64315656a8433b324e350484&q=Loja\n"
     ]
    }
   ],
   "source": [
    "##openweather\n",
    "import json\n",
    "import urllib.request\n",
    "import requests\n",
    "import urllib\n",
    "\n",
    "import datetime as dt\n",
    "from dateutil.relativedelta import relativedelta\n",
    "import requests\n",
    "import pandas as pd\n",
    "\n",
    "url_openweather='http://api.openweathermap.org/data/2.5/forecast?'\n",
    "api_key_openweather='b14a413b64315656a8433b324e350484'\n",
    "city='Loja'\n",
    "url_apiop= url_openweather+ 'appid=' + api_key_openweather +'&q=' + city\n",
    "print(url_apiop)\n",
    "response=requests.get(url_apiop).json()\n"
   ]
  },
  {
   "attachments": {},
   "cell_type": "markdown",
   "id": "8cdbd2e8",
   "metadata": {},
   "source": [
    "<a id=\"section4\"></a>\n",
    "# <font color=\"#004D7F\" size=4> Transformo el dataset en dataframe</font>"
   ]
  },
  {
   "cell_type": "code",
   "execution_count": 72,
   "id": "7581a30b",
   "metadata": {},
   "outputs": [
    {
     "data": {
      "text/plain": [
       "main               object\n",
       "description        object\n",
       "icon               object\n",
       "temp              float64\n",
       "presion             int64\n",
       "humedad             int64\n",
       "velocidad_aire    float64\n",
       "dtype: object"
      ]
     },
     "execution_count": 72,
     "metadata": {},
     "output_type": "execute_result"
    }
   ],
   "source": [
    "df_weather=pd.json_normalize(response['list'][0:])\n",
    "df_weather=df_weather.drop(columns=['visibility','pop','main.feels_like','main.temp_min','main.temp_max','main.sea_level','main.grnd_level','main.temp_kf','clouds.all','wind.deg','wind.gust','rain.3h','sys.pod','dt'])\n",
    "df_weather=df_weather.rename(columns={'dt_txt':'fecha','main.temp':'temp','main.pressure':'presion',\n",
    "                                        'main.humidity':'humedad','wind.speed':'velocidad_aire'})\n",
    "df_weather['fecha'] = df_weather['fecha'].astype('datetime64')\n",
    "\n",
    "#df_weather=df_weather.set_index('fecha')\n",
    "\n",
    "\n",
    "lista_weather=[]\n",
    "\n",
    "for i in range(len(df_weather)):\n",
    "    list=df_weather['weather'][i]\n",
    "    lista_weather.extend(list)\n",
    "lista_weather=pd.DataFrame(lista_weather)\n",
    "lista_weather=lista_weather.drop(columns=['id'])\n",
    "df_weather=df_weather.drop(columns=['weather'])\n",
    "df_weather=pd.concat([lista_weather,df_weather],axis=1)\n",
    "df_weather=df_weather.set_index('fecha')\n",
    "df_weather.temp=df_weather.temp-273.15\n",
    "\n",
    "import time\n",
    "imprimir_fecha=time.ctime()\n",
    "imprimir_fecha=imprimir_fecha.split()\n",
    "\n",
    "today=dt.datetime.today()\n",
    "uno_dia=(today+relativedelta(days=+1)).strftime('%Y-%m-%d')\n",
    "text_uno_dia=(today+relativedelta(days=+1)).strftime('%A')\n",
    "\n",
    "dos_dia=(today+relativedelta(days=+2)).strftime('%Y-%m-%d')\n",
    "text_dos_dia=(today+relativedelta(days=+2)).strftime('%A')\n",
    "\n",
    "tres_dia=(today+relativedelta(days=+3)).strftime('%Y-%m-%d')\n",
    "text_tres_dia=(today+relativedelta(days=+3)).strftime('%A')\n",
    "\n",
    "cuatro_dia=(today+relativedelta(days=+4)).strftime('%Y-%m-%d')\n",
    "text_cuatro_dia=(today+relativedelta(days=+4)).strftime('%A')\n",
    "\n",
    "xlim=df_weather.loc[cuatro_dia]\n",
    "df_weather.dtypes"
   ]
  },
  {
   "attachments": {},
   "cell_type": "markdown",
   "id": "671a3e66",
   "metadata": {},
   "source": [
    "<a id=\"section5\"></a>\n",
    "# <font color=\"#004D7F\" size=4>Importo la fecha y hora actual</font>"
   ]
  },
  {
   "cell_type": "code",
   "execution_count": 19,
   "id": "3a68bdae",
   "metadata": {},
   "outputs": [
    {
     "data": {
      "text/plain": [
       "('Wed', '15:45:38')"
      ]
     },
     "execution_count": 19,
     "metadata": {},
     "output_type": "execute_result"
    }
   ],
   "source": [
    "import time\n",
    "imprimir_fecha=time.ctime()\n",
    "imprimir_fecha=imprimir_fecha.split()\n",
    "imprimir_fecha[0],imprimir_fecha[3]"
   ]
  },
  {
   "attachments": {},
   "cell_type": "markdown",
   "id": "e9e0c5ec",
   "metadata": {},
   "source": [
    "<a id=\"section6\"></a>\n",
    "# <font color=\"#004D7F\" size=4> Grafico el clima</font>"
   ]
  },
  {
   "cell_type": "code",
   "execution_count": 5,
   "id": "1a95c41d",
   "metadata": {},
   "outputs": [
    {
     "data": {
      "image/png": "[encoded data removed]",
      "text/plain": [
       "<Figure size 1000x400 with 1 Axes>"
      ]
     },
     "metadata": {},
     "output_type": "display_data"
    }
   ],
   "source": [
    "import numpy as np\n",
    "import pandas as pd\n",
    "import matplotlib.pyplot as plt\n",
    "import matplotlib.dates as mdates\n",
    "\n",
    "#plt.style.use('dark_background')\n",
    "fig=plt.figure(figsize=(10,4),frameon=False)\n",
    "ax = fig.add_subplot()\n",
    "ax.xaxis.set_major_formatter(mdates.DateFormatter('%H:%M'))\n",
    "ax.plot(xlim.temp,color='#ffd700',lw=1)\n",
    "#plt.ylabel(\"Temperature (°C)\")\n",
    "#plt.xlabel(\"Hora del dia\")\n",
    "ax.fill_between(xlim.index,xlim.temp,alpha=0.30,color='yellow')\n",
    "ax.get_yaxis().set_visible(False)\n",
    "ax.set_facecolor('#000000')\n",
    "ax.tick_params(axis='x',colors='white')\n",
    "#fig.set_edgecolor('blue')\n",
    "for i in range(1, len(xlim)+1):\n",
    "    plt.annotate('%.1f'%xlim.temp[i-1],xy=(xlim.index[i-1],xlim.temp[i-1]),xytext=(0, 0),textcoords='offset points',color='white',fontweight='demibold')\n",
    "\n"
   ]
  }
 ],
 "metadata": {
  "celltoolbar": "Edit Metadata",
  "kernelspec": {
   "display_name": "Python 3 (ipykernel)",
   "language": "python",
   "name": "python3"
  },
  "language_info": {
   "codemirror_mode": {
    "name": "ipython",
    "version": 3
   },
   "file_extension": ".py",
   "mimetype": "text/x-python",
   "name": "python",
   "nbconvert_exporter": "python",
   "pygments_lexer": "ipython3",
   "version": "3.9.16"
  },
  "vscode": {
   "interpreter": {
    "hash": "c2b1934cfa0c686285521884fb504520b5c499ad0b50fa8d3c420be50ac143ce"
   }
  }
 },
 "nbformat": 4,
 "nbformat_minor": 5
}
